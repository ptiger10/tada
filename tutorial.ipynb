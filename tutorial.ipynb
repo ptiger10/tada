{
 "cells": [
  {
   "cell_type": "markdown",
   "metadata": {},
   "source": [
    "NB: It would be better to develop this pipeline in an IDE (such as Visual Studio Code), which provides signature annotations, linting, auto-imports and formatting, and testing/benchmarking. This notebook just showcases the iterative development style.  \n",
    "\n",
    "You are studying student performance on different tests for a school board. The data is in a csv that looks like so:"
   ]
  },
  {
   "cell_type": "code",
   "execution_count": 1,
   "metadata": {},
   "outputs": [],
   "source": [
    "rawData := `student, date, grade\n",
    "John Doe, 1/1/20, 70\n",
    "John Doe, 1/5/20, 60\n",
    "John Doe, 1/10/20, 65\n",
    "John Doe, 1/15/20, 50\n",
    "John Doe, 1/30/20, 80\n",
    "John Doe, 2/1/20, 80\n",
    "John Doe, 2/15/20, 85\n",
    "Jane Doe, 1/1/20, 75\n",
    "Jane Doe, 1/5/20, 60\n",
    "Jane Doe, 1/10/20, 70\n",
    "Jane Doe, 1/15/20, 60\n",
    "Jane Doe, 1/30/20, 95\n",
    "Jane Doe, 2/1/20, 90\n",
    "Jane Doe, 2/15/20, 85\n",
    "Jane Doe, 2/28/20, 95\n",
    "`"
   ]
  },
  {
   "cell_type": "markdown",
   "metadata": {},
   "source": [
    "The board first asks to see the average grade by student across all tests. \n",
    "\n",
    "You want to build a reusable data pipeline and validate that it works for any similar data. The first step is to convert the data into a smaller, more generalized form so that tests are easier to reason about. \n",
    "\n",
    "For this, run tada.WriteMockCSV(), copy and paste the string output, and throw some extra null data into the output for good measure."
   ]
  },
  {
   "cell_type": "code",
   "execution_count": 2,
   "metadata": {},
   "outputs": [],
   "source": [
    "import (\n",
    "    \"bytes\"\n",
    "    \"encoding/csv\"\n",
    "    \"fmt\"\n",
    "    \"log\"\n",
    "    \"testing\"\n",
    "    \"time\"\n",
    "    \"strconv\"\n",
    "    \"strings\"\n",
    "    \n",
    "    \"github.com/ptiger10/tada\"\n",
    ")"
   ]
  },
  {
   "cell_type": "code",
   "execution_count": 3,
   "metadata": {},
   "outputs": [
    {
     "data": {
      "text/plain": [
       "student,date,grade\n",
       "foo,2020-01-01,1\n",
       "baz,,3\n",
       "bar,2020-02-02,1\n",
       "bar,2020-01-01,1\n",
       ",2020-02-02,3\n"
      ]
     },
     "execution_count": 3,
     "metadata": {},
     "output_type": "execute_result"
    }
   ],
   "source": [
    "w := new(bytes.Buffer)\n",
    "tada.WriteMockCSV(strings.NewReader(rawData), w, 5)\n",
    "w.String()"
   ]
  },
  {
   "cell_type": "code",
   "execution_count": null,
   "metadata": {},
   "outputs": [],
   "source": []
  },
  {
   "cell_type": "markdown",
   "metadata": {},
   "source": [
    "Now we write a test to make sure that the data pipeline is outputting the right values. \n",
    "\n",
    "For this, we use df.EqualsCSVFromString()"
   ]
  },
  {
   "cell_type": "code",
   "execution_count": 14,
   "metadata": {},
   "outputs": [],
   "source": [
    "// Normally, you would supply a *testing.T to this function, \n",
    "// include the expected input and output in the test itself,\n",
    "// and report errors with t.Errorf.\n",
    "// However, the normal Go test workflow is not well supported in a notebook.\n",
    "\n",
    "mockInput := `student,date,grade\n",
    ",2020-01-02,2\n",
    "baz,2020-01-02,3\n",
    "baz,2020-02-02,4\n",
    "bar,2020-01-01,4\n",
    "bar,2019-12-31,5`\n",
    "    \n",
    "want := `student, mean_grade\n",
    "bar, 4.5\n",
    "baz, 3`\n",
    "\n",
    "func TestTransform()  {\n",
    "    df, err := tada.ReadCSV(strings.NewReader(mockInput))\n",
    "    if err != nil {\n",
    "        fmt.Println(\"Error:\", err)\n",
    "    }\n",
    "    ret := transform(df)\n",
    "    ok, diffs, err := ret.EqualsCSV(strings.NewReader(want), true)\n",
    "    if err != nil {\n",
    "        fmt.Println(\"Error:\", err)\n",
    "    }\n",
    "    if !ok {\n",
    "        fmt.Println(\"transform() has diffs:\")\n",
    "        fmt.Println(\"--text view--\")\n",
    "        fmt.Println(diffs)\n",
    "        \n",
    "        fmt.Println(\"--table view--\")\n",
    "        fmt.Println(diffs.AsTable())\n",
    "        \n",
    "        fmt.Println(\"--df that was returned--\")\n",
    "        fmt.Println(ret)\n",
    "    } else {\n",
    "        fmt.Println(\"PASS\")\n",
    "    }\n",
    "}"
   ]
  },
  {
   "cell_type": "markdown",
   "metadata": {},
   "source": [
    "And we write a function that will satisfy the test"
   ]
  },
  {
   "cell_type": "code",
   "execution_count": 15,
   "metadata": {},
   "outputs": [],
   "source": [
    "func transform(df *tada.DataFrame) *tada.DataFrame {\n",
    "    df.InPlace().DropNull()\n",
    "    df.InPlace().Sort(tada.Sorter{Name: \"student\", DType: tada.String})\n",
    "    return df.GroupBy(\"student\").Mean(\"grade\")\n",
    "}"
   ]
  },
  {
   "cell_type": "code",
   "execution_count": 16,
   "metadata": {},
   "outputs": [
    {
     "name": "stdout",
     "output_type": "stream",
     "text": [
      "transform() has diffs:\n",
      "--text view--\n",
      "modified: [2][1] = 3.5 -> 3\n",
      "\n",
      "--table view--\n",
      "+--+--------+\n",
      "|  |        |\n",
      "|  |        |\n",
      "|  | 3.5->3 |\n",
      "+--+--------+\n",
      "\n",
      "--df that was returned--\n",
      "+---------++------------+\n",
      "| student || mean_grade |\n",
      "|---------||------------|\n",
      "|     bar ||        4.5 |\n",
      "|     baz ||        3.5 |\n",
      "+---------++------------+\n",
      "name: mean\n",
      "\n"
     ]
    }
   ],
   "source": [
    "TestTransform()"
   ]
  },
  {
   "cell_type": "markdown",
   "metadata": {},
   "source": [
    "Uh oh. The test failed in position [2][1] (i.e., third row, second column). transform() returned 3.5 as the mean grade for baz, and we were expecting 3. Double checking the raw data, we see that we should have been expecting 3.5. We update the test."
   ]
  },
  {
   "cell_type": "code",
   "execution_count": 17,
   "metadata": {},
   "outputs": [],
   "source": [
    "mockInput := `student,date,grade\n",
    ",2020-01-02,2\n",
    "baz,2020-01-02,3\n",
    "baz,2020-02-02,4\n",
    "bar,2020-01-01,4\n",
    "bar,2019-12-31,5`\n",
    "\n",
    "want := `student, mean_grade\n",
    "bar, 4.5\n",
    "baz, 3.5`"
   ]
  },
  {
   "cell_type": "code",
   "execution_count": 18,
   "metadata": {},
   "outputs": [
    {
     "name": "stdout",
     "output_type": "stream",
     "text": [
      "PASS\n"
     ]
    }
   ],
   "source": [
    "TestTransform()"
   ]
  },
  {
   "cell_type": "markdown",
   "metadata": {},
   "source": [
    "Once we are comfortable with our test coverage, we run the real data through the function."
   ]
  },
  {
   "cell_type": "code",
   "execution_count": 20,
   "metadata": {},
   "outputs": [
    {
     "data": {
      "text/plain": [
       "+----------++------------+\n",
       "| student  || mean_grade |\n",
       "|----------||------------|\n",
       "| Jane Doe ||      78.75 |\n",
       "| John Doe ||         70 |\n",
       "+----------++------------+\n",
       "name: mean\n"
      ]
     },
     "execution_count": 20,
     "metadata": {},
     "output_type": "execute_result"
    }
   ],
   "source": [
    "df, err := tada.ReadCSV(strings.NewReader(rawData))\n",
    "if err != nil {\n",
    "    log.Fatal(err)\n",
    "}\n",
    "transform(df)"
   ]
  },
  {
   "cell_type": "markdown",
   "metadata": {},
   "source": [
    "## Revision 1\n",
    "\n",
    "The board changed its mind. Now it only wants to see scores grouped by student by month. So you update the mock input to have at least a couple of observations in different months, write a new expected output, and write a new transform function."
   ]
  },
  {
   "cell_type": "code",
   "execution_count": 21,
   "metadata": {},
   "outputs": [],
   "source": [
    "mockInput := `student,date,grade\n",
    ",2020-01-02,2\n",
    "baz,2020-02-01,3\n",
    "baz,2020-02-02,4\n",
    "bar,2020-01-01,4\n",
    "bar,2019-12-01,5\n",
    "bar,2019-12-02,7`\n",
    "\n",
    "want := `student, date, mean_grade\n",
    "bar, 2019-12, 6.0\n",
    "bar, 2020-01, 4.0\n",
    "baz, 2020-02, 3.5`"
   ]
  },
  {
   "cell_type": "code",
   "execution_count": 22,
   "metadata": {},
   "outputs": [],
   "source": [
    "func transform(df *tada.DataFrame) *tada.DataFrame {\n",
    "    df.InPlace().DropNull()\n",
    "    df.InPlace().Resample(map[string]tada.Resampler{\"date\": {ByMonth: true}})\n",
    "    df.InPlace().Sort([]tada.Sorter{\n",
    "        {Name: \"student\", DType: tada.String}, \n",
    "        {Name: \"date\", DType: tada.DateTime}}...)\n",
    "    df = df.GroupBy(\"student\", \"date\").Mean(\"grade\")\n",
    "    \n",
    "    monthFormat := tada.ApplyFormatFn{DateTime: func(v time.Time) string {return v.Format(\"2006-01\")}}\n",
    "    decimalFormat := tada.ApplyFormatFn{Float64: func(v float64) string {return strconv.FormatFloat(v, 'f', 1, 64)}}\n",
    "    df.InPlace().ApplyFormat(map[string]tada.ApplyFormatFn{\n",
    "        \"date\": monthFormat,\n",
    "        \"mean_grade\": decimalFormat})\n",
    "    return df\n",
    "}"
   ]
  },
  {
   "cell_type": "code",
   "execution_count": 23,
   "metadata": {},
   "outputs": [
    {
     "name": "stdout",
     "output_type": "stream",
     "text": [
      "PASS\n"
     ]
    }
   ],
   "source": [
    "TestTransform()"
   ]
  },
  {
   "cell_type": "code",
   "execution_count": 24,
   "metadata": {},
   "outputs": [
    {
     "data": {
      "text/plain": [
       "+----------+---------++------------+\n",
       "| student  |  date   || mean_grade |\n",
       "|----------|---------||------------|\n",
       "| Jane Doe | 2020-01 ||       72.0 |\n",
       "|          | 2020-02 ||       90.0 |\n",
       "| John Doe | 2020-01 ||       65.0 |\n",
       "|          | 2020-02 ||       82.5 |\n",
       "+----------+---------++------------+\n",
       "name: mean\n"
      ]
     },
     "execution_count": 24,
     "metadata": {},
     "output_type": "execute_result"
    }
   ],
   "source": [
    "df, err := tada.ReadCSV(strings.NewReader(rawData))\n",
    "if err != nil {\n",
    "    log.Fatal(err)\n",
    "}\n",
    "transform(df)"
   ]
  },
  {
   "cell_type": "markdown",
   "metadata": {},
   "source": [
    "## Revision 2\n",
    "Looking at your most recent report, the school board notices that students seem to have unusually low scores in January. Someone discovers that the school district changed test scanning software on January 16, 2020. Now they want a report on average scores across all students for all tests before and after that key date.\n",
    "\n",
    "You want your function to be able to perform this analysis given any date. This requires a new test as well."
   ]
  },
  {
   "cell_type": "code",
   "execution_count": 25,
   "metadata": {},
   "outputs": [],
   "source": [
    "mockInput := `student,date,grade\n",
    ",2020-01-02,2\n",
    "baz,2020-02-01,5\n",
    "baz,2020-02-02,4\n",
    "bar,2020-01-01,1\n",
    "bar,2019-12-01,2\n",
    "bar,2019-12-02,3`\n",
    "\n",
    "\n",
    "// if date is 2020-01-02\n",
    "want := `period, mean_grade\n",
    "d < 2020-01-02, 2.0\n",
    "d >= 2020-01-02, 4.5`"
   ]
  },
  {
   "cell_type": "code",
   "execution_count": 29,
   "metadata": {},
   "outputs": [],
   "source": [
    "func TestTransformWithDate(testDate time.Time)  {\n",
    "    df, err := tada.ReadCSV(strings.NewReader(mockInput))\n",
    "    if err != nil {\n",
    "        fmt.Println(\"Error:\", err)\n",
    "    }\n",
    "    ret := transformWithDate(df, testDate)\n",
    "    ok, diffs, err := ret.EqualsCSV(strings.NewReader(want), true)\n",
    "    if err != nil {\n",
    "        fmt.Println(\"Error:\", err)\n",
    "    }\n",
    "    if !ok {\n",
    "        fmt.Println(\"transform() has diffs:\")\n",
    "        fmt.Println(\"--text view--\")\n",
    "        fmt.Println(diffs)\n",
    "        \n",
    "        fmt.Println(\"--table view--\")\n",
    "        fmt.Println(diffs.AsTable())\n",
    "        \n",
    "        fmt.Println(\"--df that was returned--\")\n",
    "        fmt.Println(ret)\n",
    "    } else {\n",
    "        fmt.Println(\"PASS\")\n",
    "    }\n",
    "}"
   ]
  },
  {
   "cell_type": "code",
   "execution_count": 34,
   "metadata": {},
   "outputs": [],
   "source": [
    "func transformWithDate(df *tada.DataFrame, date time.Time) *tada.DataFrame {\n",
    "    df.InPlace().DropNull()\n",
    "    beforeDate := tada.FilterFn{DateTime: func(v time.Time) bool{ return v.Before(date)}}\n",
    "    period, err := df.Where(\n",
    "        map[string]tada.FilterFn{\"date\": beforeDate}, \n",
    "        fmt.Sprintf(\"d < %v\", date.Format(\"2006-01-02\")),\n",
    "        fmt.Sprintf(\"d >= %v\", date.Format(\"2006-01-02\")),\n",
    "    )\n",
    "    if err != nil {\n",
    "        log.Fatal(err)\n",
    "    }\n",
    "    df.InPlace().WithCol(\"period\", period)\n",
    "    df.InPlace().Sort(tada.Sorter{Name: \"date\", DType: tada.DateTime})\n",
    "    ret := df.GroupBy(\"period\").Mean(\"grade\")\n",
    "    \n",
    "    decimalFormat := tada.ApplyFormatFn{Float64: func(v float64) string {return strconv.FormatFloat(v, 'f', 1, 64)}}\n",
    "    ret.InPlace().ApplyFormat(map[string]tada.ApplyFormatFn{\n",
    "        \"mean_grade\": decimalFormat})\n",
    "    return ret\n",
    "} "
   ]
  },
  {
   "cell_type": "code",
   "execution_count": 35,
   "metadata": {},
   "outputs": [
    {
     "name": "stdout",
     "output_type": "stream",
     "text": [
      "PASS\n"
     ]
    }
   ],
   "source": [
    "testDate := time.Date(2020,01,02,0,0,0,0,time.UTC)\n",
    "TestTransformWithDate(testDate)"
   ]
  },
  {
   "cell_type": "code",
   "execution_count": 36,
   "metadata": {},
   "outputs": [
    {
     "data": {
      "text/plain": [
       "+-----------------++------------+\n",
       "|     period      || mean_grade |\n",
       "|-----------------||------------|\n",
       "|  d < 2020-01-16 ||       63.8 |\n",
       "| d >= 2020-01-16 ||       87.1 |\n",
       "+-----------------++------------+\n",
       "name: mean\n"
      ]
     },
     "execution_count": 36,
     "metadata": {},
     "output_type": "execute_result"
    }
   ],
   "source": [
    "df, err := tada.ReadCSV(strings.NewReader(rawData))\n",
    "if err != nil {\n",
    "    log.Fatal(err)\n",
    "}\n",
    "d := time.Date(2020,1,16,0,0,0,0,time.UTC)\n",
    "transformWithDate(df, d)"
   ]
  },
  {
   "cell_type": "code",
   "execution_count": null,
   "metadata": {},
   "outputs": [],
   "source": []
  }
 ],
 "metadata": {
  "kernelspec": {
   "display_name": "Go",
   "language": "go",
   "name": "gophernotes"
  },
  "language_info": {
   "codemirror_mode": "",
   "file_extension": ".go",
   "mimetype": "",
   "name": "go",
   "nbconvert_exporter": "",
   "pygments_lexer": "",
   "version": "go1.14"
  }
 },
 "nbformat": 4,
 "nbformat_minor": 4
}
